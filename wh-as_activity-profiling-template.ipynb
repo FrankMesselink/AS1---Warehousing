{
 "cells": [
  {
   "cell_type": "markdown",
   "metadata": {
    "id": "CxFdALwemMqA"
   },
   "source": [
    "# Warehouse Activity Profiling\n",
    "\n",
    "## Data Setup\n",
    "\n",
    "In the following, warehousing data is downloaded to a local directory `data/raw`."
   ]
  },
  {
   "cell_type": "code",
<<<<<<< HEAD
   "execution_count": 1,
=======
   "execution_count": 4,
>>>>>>> 13152f2e4fbd93e697e5eb4ea56c8c6f8a66ef42
   "metadata": {
    "colab": {
     "base_uri": "https://localhost:8080/"
    },
    "executionInfo": {
     "elapsed": 42052,
     "status": "ok",
     "timestamp": 1756977760083,
     "user": {
      "displayName": "Breno Alves Beirigo",
      "userId": "03199790246881935880"
     },
     "user_tz": -120
    },
    "id": "0O6UXFTAmMqB",
    "outputId": "69a835b7-05be-44c2-d7bc-447c4a652c29"
   },
   "outputs": [
    {
<<<<<<< HEAD
     "name": "stderr",
     "output_type": "stream",
     "text": [
      "\n",
      "[notice] A new release of pip is available: 25.1.1 -> 25.2\n",
      "[notice] To update, run: python.exe -m pip install --upgrade pip\n"
     ]
    },
    {
     "name": "stdout",
     "output_type": "stream",
     "text": [
      "Note: you may need to restart the kernel to use updated packages.\n",
=======
     "name": "stdout",
     "output_type": "stream",
     "text": [
>>>>>>> 13152f2e4fbd93e697e5eb4ea56c8c6f8a66ef42
      "Downloading file: DC23MINMAX2.xls\n"
     ]
    },
    {
     "name": "stderr",
     "output_type": "stream",
     "text": [
      "Downloading...\n",
      "From: https://docs.google.com/uc?id=1-HdyNodYixXl6cMUS-YxKhngPSBsP4Mq\n",
<<<<<<< HEAD
      "To: c:\\Users\\frank\\OneDrive\\Documenten\\GitHub\\AS1---Warehousing\\data\\raw\\DC23MINMAX2.xls\n",
      "100%|██████████| 2.02M/2.02M [00:00<00:00, 13.9MB/s]\n"
=======
      "To: /Users/roosmarijnvanluijtelaar/Desktop/AS1---Warehousing/data/raw/DC23MINMAX2.xls\n",
      "100%|██████████| 2.02M/2.02M [00:00<00:00, 11.9MB/s]\n"
>>>>>>> 13152f2e4fbd93e697e5eb4ea56c8c6f8a66ef42
     ]
    },
    {
     "name": "stdout",
     "output_type": "stream",
     "text": [
      "Downloading file: BCF-zones.xls\n"
     ]
    },
    {
     "name": "stderr",
     "output_type": "stream",
     "text": [
      "Downloading...\n",
      "From: https://docs.google.com/uc?id=11ULuWAONeoT5u15KNLPo2IhlWf7gKAHs\n",
<<<<<<< HEAD
      "To: c:\\Users\\frank\\OneDrive\\Documenten\\GitHub\\AS1---Warehousing\\data\\raw\\BCF-zones.xls\n",
      "100%|██████████| 113k/113k [00:00<00:00, 6.30MB/s]\n"
=======
      "To: /Users/roosmarijnvanluijtelaar/Desktop/AS1---Warehousing/data/raw/BCF-zones.xls\n",
      "100%|██████████| 113k/113k [00:00<00:00, 2.64MB/s]\n"
>>>>>>> 13152f2e4fbd93e697e5eb4ea56c8c6f8a66ef42
     ]
    },
    {
     "name": "stdout",
     "output_type": "stream",
     "text": [
      "Downloading file: dc23Sales04.txt\n"
     ]
    },
    {
     "name": "stderr",
     "output_type": "stream",
     "text": [
      "Downloading...\n",
      "From (original): https://drive.google.com/uc?id=16Z3vAdCzwErOTUF5MYOv-6Jc0wtis2x-\n",
<<<<<<< HEAD
      "From (redirected): https://drive.google.com/uc?id=16Z3vAdCzwErOTUF5MYOv-6Jc0wtis2x-&confirm=t&uuid=0bb190ff-aef5-4641-b942-58defbc837c3\n",
      "To: c:\\Users\\frank\\OneDrive\\Documenten\\GitHub\\AS1---Warehousing\\data\\raw\\dc23Sales04.txt\n",
      "100%|██████████| 190M/190M [00:08<00:00, 21.8MB/s] \n"
=======
      "From (redirected): https://drive.google.com/uc?id=16Z3vAdCzwErOTUF5MYOv-6Jc0wtis2x-&confirm=t&uuid=092e5280-c25e-4329-b7d2-0f03a7b5aaad\n",
      "To: /Users/roosmarijnvanluijtelaar/Desktop/AS1---Warehousing/data/raw/dc23Sales04.txt\n",
      "100%|██████████| 190M/190M [00:07<00:00, 25.0MB/s] \n"
>>>>>>> 13152f2e4fbd93e697e5eb4ea56c8c6f8a66ef42
     ]
    },
    {
     "name": "stdout",
     "output_type": "stream",
     "text": [
      "Downloading file: Phily_Dim_Status2.xls\n"
     ]
    },
    {
     "name": "stderr",
     "output_type": "stream",
     "text": [
      "Downloading...\n",
      "From: https://docs.google.com/uc?id=1EZuFoHB8X2Ji_ylOozsTnc3IM8VBs7Sl\n",
<<<<<<< HEAD
      "To: c:\\Users\\frank\\OneDrive\\Documenten\\GitHub\\AS1---Warehousing\\data\\raw\\Phily_Dim_Status2.xls\n",
      "100%|██████████| 5.95M/5.95M [00:00<00:00, 21.5MB/s]\n"
=======
      "To: /Users/roosmarijnvanluijtelaar/Desktop/AS1---Warehousing/data/raw/Phily_Dim_Status2.xls\n",
      "100%|██████████| 5.95M/5.95M [00:00<00:00, 18.7MB/s]\n"
>>>>>>> 13152f2e4fbd93e697e5eb4ea56c8c6f8a66ef42
     ]
    },
    {
     "name": "stdout",
     "output_type": "stream",
     "text": [
      "Downloading file: DC23ACTIVE AS OF 050210.xls\n"
     ]
    },
    {
     "name": "stderr",
     "output_type": "stream",
     "text": [
      "Downloading...\n",
      "From: https://docs.google.com/uc?id=1QQDh-i4XXHuXmRP3hB9WCw5zLn5VY-OO\n",
<<<<<<< HEAD
      "To: c:\\Users\\frank\\OneDrive\\Documenten\\GitHub\\AS1---Warehousing\\data\\raw\\DC23ACTIVE AS OF 050210.xls\n",
      "100%|██████████| 2.79M/2.79M [00:00<00:00, 20.1MB/s]\n"
=======
      "To: /Users/roosmarijnvanluijtelaar/Desktop/AS1---Warehousing/data/raw/DC23ACTIVE AS OF 050210.xls\n",
      "100%|██████████| 2.79M/2.79M [00:00<00:00, 15.2MB/s]\n"
>>>>>>> 13152f2e4fbd93e697e5eb4ea56c8c6f8a66ef42
     ]
    },
    {
     "name": "stdout",
     "output_type": "stream",
     "text": [
      "Downloading file: CDCART23.txt\n"
     ]
    },
    {
     "name": "stderr",
     "output_type": "stream",
     "text": [
      "Downloading...\n",
      "From: https://drive.google.com/uc?id=1b_YdIZFgpHpwGiStUZgFXdX8OQo5TD5q\n",
<<<<<<< HEAD
      "To: c:\\Users\\frank\\OneDrive\\Documenten\\GitHub\\AS1---Warehousing\\data\\raw\\CDCART23.txt\n",
      "100%|██████████| 20.9M/20.9M [00:00<00:00, 22.8MB/s]\n"
=======
      "To: /Users/roosmarijnvanluijtelaar/Desktop/AS1---Warehousing/data/raw/CDCART23.txt\n",
      "100%|██████████| 20.9M/20.9M [00:02<00:00, 10.3MB/s]\n"
>>>>>>> 13152f2e4fbd93e697e5eb4ea56c8c6f8a66ef42
     ]
    },
    {
     "name": "stdout",
     "output_type": "stream",
     "text": [
      "Downloading file: CHCART23.txt\n"
     ]
    },
    {
     "name": "stderr",
     "output_type": "stream",
     "text": [
      "Downloading...\n",
      "From: https://drive.google.com/uc?id=1hc5aJHHkA33QG3mWaR0YWb-TMJK_svqd\n",
<<<<<<< HEAD
      "To: c:\\Users\\frank\\OneDrive\\Documenten\\GitHub\\AS1---Warehousing\\data\\raw\\CHCART23.txt\n",
      "100%|██████████| 8.19M/8.19M [00:00<00:00, 20.7MB/s]\n"
=======
      "To: /Users/roosmarijnvanluijtelaar/Desktop/AS1---Warehousing/data/raw/CHCART23.txt\n",
      "100%|██████████| 8.19M/8.19M [00:00<00:00, 9.80MB/s]\n"
>>>>>>> 13152f2e4fbd93e697e5eb4ea56c8c6f8a66ef42
     ]
    },
    {
     "name": "stdout",
     "output_type": "stream",
     "text": [
      "Downloading file: DC23CASES AS OF 050210.xls\n"
     ]
    },
    {
     "name": "stderr",
     "output_type": "stream",
     "text": [
      "Downloading...\n",
      "From: https://docs.google.com/uc?id=1ok3ymi8g5FsBFVThjNC7TRuEIg3GDrP7\n",
<<<<<<< HEAD
      "To: c:\\Users\\frank\\OneDrive\\Documenten\\GitHub\\AS1---Warehousing\\data\\raw\\DC23CASES AS OF 050210.xls\n",
      "100%|██████████| 8.10M/8.10M [00:00<00:00, 20.9MB/s]\n"
=======
      "To: /Users/roosmarijnvanluijtelaar/Desktop/AS1---Warehousing/data/raw/DC23CASES AS OF 050210.xls\n",
      "100%|██████████| 8.10M/8.10M [00:00<00:00, 17.6MB/s]\n"
>>>>>>> 13152f2e4fbd93e697e5eb4ea56c8c6f8a66ef42
     ]
    },
    {
     "name": "stdout",
     "output_type": "stream",
     "text": [
      "Downloading file: ITEMDATAV2.txt\n"
     ]
    },
    {
     "name": "stderr",
     "output_type": "stream",
     "text": [
      "Downloading...\n",
      "From: https://drive.google.com/uc?id=1xX1L5aMErZWRPjK90XgocHa9OKVcFMJh\n",
<<<<<<< HEAD
      "To: c:\\Users\\frank\\OneDrive\\Documenten\\GitHub\\AS1---Warehousing\\data\\raw\\ITEMDATAV2.txt\n",
      "100%|██████████| 6.34M/6.34M [00:00<00:00, 21.9MB/s]\n"
=======
      "To: /Users/roosmarijnvanluijtelaar/Desktop/AS1---Warehousing/data/raw/ITEMDATAV2.txt\n",
      "100%|██████████| 6.34M/6.34M [00:00<00:00, 7.24MB/s]\n"
>>>>>>> 13152f2e4fbd93e697e5eb4ea56c8c6f8a66ef42
     ]
    },
    {
     "name": "stdout",
     "output_type": "stream",
     "text": [
      "Downloading file: TRCART23.txt\n"
     ]
    },
    {
     "name": "stderr",
     "output_type": "stream",
     "text": [
      "Downloading...\n",
      "From: https://drive.google.com/uc?id=1y3g786KPqAtcVveDBsM9xwjtlKTN4-vL\n",
<<<<<<< HEAD
      "To: c:\\Users\\frank\\OneDrive\\Documenten\\GitHub\\AS1---Warehousing\\data\\raw\\TRCART23.txt\n",
      "100%|██████████| 18.7M/18.7M [00:01<00:00, 18.2MB/s]\n"
=======
      "To: /Users/roosmarijnvanluijtelaar/Desktop/AS1---Warehousing/data/raw/TRCART23.txt\n",
      "100%|██████████| 18.7M/18.7M [00:01<00:00, 14.6MB/s]\n"
>>>>>>> 13152f2e4fbd93e697e5eb4ea56c8c6f8a66ef42
     ]
    }
   ],
   "source": [
<<<<<<< HEAD
    "# Install useful libraries\n",
    "%pip install -q gdown pathlib pandas seaborn matplotlib numpy plotly openpyxl xlrd\n",
    "\n",
=======
>>>>>>> 13152f2e4fbd93e697e5eb4ea56c8c6f8a66ef42
    "# Useful libraries\n",
    "import gdown\n",
    "import pathlib\n",
    "import os\n",
    "\n",
    "# File names, storage links, and column headers\n",
    "files = {\n",
    "  \"DC23MINMAX2.xls\":\"https://docs.google.com/uc?id=1-HdyNodYixXl6cMUS-YxKhngPSBsP4Mq\",\n",
    "  \"BCF-zones.xls\":\"https://docs.google.com/uc?id=11ULuWAONeoT5u15KNLPo2IhlWf7gKAHs\",\n",
    "  \"dc23Sales04.txt\":\"https://drive.google.com/uc?id=16Z3vAdCzwErOTUF5MYOv-6Jc0wtis2x-\",\n",
    "  \"Phily_Dim_Status2.xls\":\"https://docs.google.com/uc?id=1EZuFoHB8X2Ji_ylOozsTnc3IM8VBs7Sl\",\n",
    "  \"DC23ACTIVE AS OF 050210.xls\":\"https://docs.google.com/uc?id=1QQDh-i4XXHuXmRP3hB9WCw5zLn5VY-OO\",\n",
    "  \"CDCART23.txt\":\"https://drive.google.com/uc?id=1b_YdIZFgpHpwGiStUZgFXdX8OQo5TD5q\",\n",
    "  \"CHCART23.txt\":\"https://drive.google.com/uc?id=1hc5aJHHkA33QG3mWaR0YWb-TMJK_svqd\",\n",
    "  \"DC23CASES AS OF 050210.xls\":\"https://docs.google.com/uc?id=1ok3ymi8g5FsBFVThjNC7TRuEIg3GDrP7\",\n",
    "  \"ITEMDATAV2.txt\":\"https://drive.google.com/uc?id=1xX1L5aMErZWRPjK90XgocHa9OKVcFMJh\",\n",
    "  \"TRCART23.txt\":\"https://drive.google.com/uc?id=1y3g786KPqAtcVveDBsM9xwjtlKTN4-vL\",\n",
    "}\n",
    "\n",
    "# Files' destination directory\n",
    "folder = pathlib.Path(\"data/raw\")\n",
    "\n",
    "# Create destination directory inside project folder\n",
    "os.makedirs(folder, exist_ok=True)\n",
    "\n",
    "for output, url in files.items():\n",
    "  print(f\"Downloading file: {output}\")\n",
    "  # Download a file to the the target folder\n",
    "  gdown.download(url, str(folder / output), quiet=False)"
   ]
  },
  {
   "cell_type": "markdown",
   "metadata": {
    "id": "BqtSSCXemMqD"
   },
   "source": [
    "Loading the data into Pandas DataFrames:"
   ]
  },
  {
   "cell_type": "code",
<<<<<<< HEAD
   "execution_count": 3,
=======
   "execution_count": 23,
>>>>>>> 13152f2e4fbd93e697e5eb4ea56c8c6f8a66ef42
   "metadata": {
    "id": "j7bNcHUfmMqD"
   },
   "outputs": [
    {
     "name": "stdout",
     "output_type": "stream",
     "text": [
<<<<<<< HEAD
      "         item vnid                       itdesc      ordnbr  linenbr  \\\n",
      "0    BRTTN460  BRT    CRTDG,TNR,HI YLD,F/HL1250  23926870.0      1.0   \n",
      "1  CMC5810-BE  CMC   CART,UTLTY,200#CPCTY,16X36  23559658.0      1.0   \n",
      "2    KOK00172  KOK        TAPE,REFILL,PERMANENT  23840414.0      2.0   \n",
      "3     SOF1500  SOF  TWISSTOP,PHONE UNTANGLER,CL  23926870.0      2.0   \n",
      "4    SPR19764  GBC       BOARD,CORK,ALUMFRM,3X2  23750895.0      3.0   \n",
      "\n",
      "     cusnbr  ordqty  shpqty uom              txndate  \n",
      "0  615413.0     4.0     4.0  EA  2004-12-01 17:01:00  \n",
      "1   10135.0     8.0     8.0  EA  2004-08-02 14:45:00  \n",
      "2  614283.0     1.0     1.0  EA  2004-11-01 10:41:00  \n",
      "3  615413.0    20.0    20.0  EA  2004-12-01 17:01:00  \n",
      "4   27454.0     3.0     3.0  EA  2004-10-01 15:46:00  \n",
=======
      "Raw sales preview:\n",
      "         item vnid                       itdesc    ordnbr linenbr  cusnbr  \\\n",
      "0    BRTTN460  BRT    CRTDG,TNR,HI YLD,F/HL1250  23926870       1  615413   \n",
      "1  CMC5810-BE  CMC   CART,UTLTY,200#CPCTY,16X36  23559658       1   10135   \n",
      "2    KOK00172  KOK        TAPE,REFILL,PERMANENT  23840414       2  614283   \n",
      "3     SOF1500  SOF  TWISSTOP,PHONE UNTANGLER,CL  23926870       2  615413   \n",
      "4    SPR19764  GBC       BOARD,CORK,ALUMFRM,3X2  23750895       3   27454   \n",
      "\n",
      "   ordqty  shpqty uom              txndate  \n",
      "0       4       4  EA  2004-12-01 17:01:00  \n",
      "1       8       8  EA  2004-08-02 14:45:00  \n",
      "2       1       1  EA  2004-11-01 10:41:00  \n",
      "3      20      20  EA  2004-12-01 17:01:00  \n",
      "4       3       3  EA  2004-10-01 15:46:00  \n",
      "\n",
      "Phily Dim Status preview:\n",
>>>>>>> 13152f2e4fbd93e697e5eb4ea56c8c6f8a66ef42
      "        SKU Stocked OMS Status                  Description Selling UOM  \\\n",
      "0  AAG47294       Y          X         PLNR,\"FAT LITTLE\",BK          EA   \n",
      "1  AAG47342       Y          X   ORGNZR,LTHR,SNAP,8.5X11,BK          EA   \n",
      "2  AAG47344       Y          X  ORGNZR,VYL,ZIP,3.75X6.75,BK          EA   \n",
      "3  AAG47346       Y          X  ORGNZR,SMLTH,ZIP,5.5X8.5,BK          EA   \n",
      "4  AAG47348       Y          X    ORGNZR,VNYL,ZIP,8.5X11,BK          EA   \n",
      "\n",
      "   SellLen  SellWid  SellHgt  SellWgt ShipSelling  ... Inner1Qty  Inner1Len  \\\n",
      "0      6.2      6.1      1.7     0.90           N  ...         0        0.0   \n",
      "1     11.9     12.0      2.4     2.91           N  ...         0        0.0   \n",
      "2      8.6      5.9      1.5     1.15           N  ...         0        0.0   \n",
      "3     10.3      8.1      1.9     1.48           N  ...         0        0.0   \n",
      "4     13.7     12.0      2.5     3.48           N  ...         0        0.0   \n",
      "\n",
      "   Inner1Wid  Inner1Hgt  Inner1Wgt  CaseQty  CaseLen  CaseWid  CaseHgt  \\\n",
      "0        0.0        0.0        0.0        3      6.4      5.5      6.8   \n",
      "1        0.0        0.0        0.0        6     11.7     11.5     13.0   \n",
      "2        0.0        0.0        0.0        6     13.8      8.1      9.9   \n",
      "3        0.0        0.0        0.0        6     11.3      8.8     11.4   \n",
      "4        0.0        0.0        0.0        3     14.8     11.8     11.2   \n",
      "\n",
      "   CaseWgt  \n",
      "0     3.30  \n",
      "1    16.70  \n",
      "2     8.10  \n",
      "3     9.76  \n",
      "4    17.91  \n",
      "\n",
      "[5 rows x 21 columns]\n"
     ]
    }
   ],
   "source": [
    "import pandas as pd\n",
<<<<<<< HEAD
    "\n",
    "dc23Sales04 = pd.read_table(str(folder/\"dc23Sales04.txt\"))\n",
    "Phily_Dim_Status2 = pd.read_excel(str(folder/\"Phily_Dim_Status2.xls\"))\n",
    "\n",
    "print(dc23Sales04.head(5))\n",
    "print(Phily_Dim_Status2.head(5))"
=======
    "from pathlib import Path\n",
    "\n",
    "# -----------------\n",
    "# Paths\n",
    "# -----------------\n",
    "folder = Path.home() / \"Desktop\" / \"AS1---Warehousing\"\n",
    "CLEAN_FOLDER = folder / \"clean\"\n",
    "CLEAN_FOLDER.mkdir(parents=True, exist_ok=True)\n",
    "\n",
    "# -----------------\n",
    "# Load data\n",
    "# -----------------\n",
    "sales_file = folder / \"dc23Sales04.txt\"\n",
    "Phily_file = folder / \"Phily_Dim_Status2.xls\"\n",
    "\n",
    "# Load sales with proper dtypes\n",
    "dtypes = {\n",
    "    \"item\": str,\n",
    "    \"vnid\": str,\n",
    "    \"itdesc\": str,\n",
    "    \"ordnbr\": str,\n",
    "    \"linenbr\": str,\n",
    "    \"cusnbr\": str,\n",
    "    \"ordqty\": \"Int64\",\n",
    "    \"shpqty\": \"Int64\",\n",
    "    \"uom\": str,\n",
    "    \"txndate\": str,\n",
    "}\n",
    "\n",
    "sales = pd.read_csv(sales_file, sep=\"\\t\", dtype=dtypes, low_memory=False)\n",
    "Phily_Dim_Status2 = pd.read_excel(Phily_file)\n",
    "\n",
    "print(\"Raw sales preview:\")\n",
    "print(sales.head())\n",
    "print(\"\\nPhily Dim Status preview:\")\n",
    "print(Phily_Dim_Status2.head())\n",
    "\n",
    "# -----------------\n",
    "# Data Cleaning\n",
    "# -----------------\n",
    "sales.dropna(subset=[\"cusnbr\", \"ordnbr\", \"item\", \"ordqty\", \"shpqty\", \"txndate\"], inplace=True)\n",
    "\n",
    "\n"
>>>>>>> 13152f2e4fbd93e697e5eb4ea56c8c6f8a66ef42
   ]
  },
  {
   "cell_type": "markdown",
   "metadata": {
    "id": "XiJFZZp3mMqD"
   },
   "source": [
    "## I) Activity Profiles"
   ]
  },
  {
   "cell_type": "code",
<<<<<<< HEAD
   "execution_count": null,
=======
   "execution_count": 24,
>>>>>>> 13152f2e4fbd93e697e5eb4ea56c8c6f8a66ef42
   "metadata": {
    "id": "uyKNotezmMqE"
   },
   "outputs": [],
   "source": [
    "# Import relevant data, setup libraries, etc."
   ]
  },
  {
   "cell_type": "markdown",
   "metadata": {
    "id": "9buBHxjCmMqE"
   },
   "source": [
    "### AP1 (Heatmap) - Place a Descriptive Title Here\n",
    "\n",
    "*Summary of insights formatted as a caption.*"
   ]
  },
  {
   "cell_type": "code",
<<<<<<< HEAD
   "execution_count": null,
=======
   "execution_count": 25,
>>>>>>> 13152f2e4fbd93e697e5eb4ea56c8c6f8a66ef42
   "metadata": {
    "id": "mk00wva2mMqE"
   },
   "outputs": [],
   "source": [
    "# Code generating the figure"
   ]
  },
  {
   "cell_type": "markdown",
   "metadata": {
    "id": "oBRFEnnlmMqE"
   },
   "source": [
<<<<<<< HEAD
    "### AP2 (Customer Order) - Place a Descriptive Title Here\n",
=======
    "### AP2 (Customer Order) - Customer Pareto\n",
>>>>>>> 13152f2e4fbd93e697e5eb4ea56c8c6f8a66ef42
    "\n",
    "*Summary of insights formatted as a caption.*"
   ]
  },
  {
   "cell_type": "code",
<<<<<<< HEAD
   "execution_count": null,
   "metadata": {
    "id": "2lWCFMZgmMqF"
   },
   "outputs": [],
   "source": [
    "# Code generating the figure"
=======
   "execution_count": 38,
   "metadata": {
    "id": "2lWCFMZgmMqF"
   },
   "outputs": [
    {
     "data": {
      "image/png": "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",
      "text/plain": [
       "<Figure size 1200x600 with 2 Axes>"
      ]
     },
     "metadata": {},
     "output_type": "display_data"
    }
   ],
   "source": [
    "# Code generating the figure\n",
    "import matplotlib.pyplot as plt\n",
    "\n",
    "# -----------------\n",
    "# Pareto Analysis by Customer\n",
    "# -----------------\n",
    "\n",
    "# Aggregate shipped quantity per customer\n",
    "customer_totals = (\n",
    "    sales.groupby(\"cusnbr\")[\"shpqty\"]\n",
    "    .sum()\n",
    "    .sort_values(ascending=False)\n",
    "    .reset_index()\n",
    ")\n",
    "\n",
    "# Add cumulative share\n",
    "customer_totals[\"cum_pct\"] = customer_totals[\"shpqty\"].cumsum() / customer_totals[\"shpqty\"].sum() * 100\n",
    "\n",
    "# Plot Pareto chart\n",
    "fig, ax1 = plt.subplots(figsize=(12,6))\n",
    "\n",
    "# Bar plot (customers vs shipped qty)\n",
    "ax1.bar(customer_totals.index, customer_totals[\"shpqty\"], color=\"skyblue\")\n",
    "ax1.set_ylabel(\"Total Shipped Quantity\")\n",
    "ax1.set_xlabel(\"Customers (sorted)\")\n",
    "ax1.set_title(\"Customer Pareto Chart\")\n",
    "\n",
    "# Line plot (cumulative %)\n",
    "ax2 = ax1.twinx()\n",
    "ax2.plot(customer_totals.index, customer_totals[\"cum_pct\"], color=\"red\", marker=\"o\")\n",
    "ax2.set_ylabel(\"Cumulative % of Shipped Qty\")\n",
    "\n",
    "# Add 80% reference line\n",
    "ax2.axhline(80, color=\"green\", linestyle=\"--\")\n",
    "ax2.text(len(customer_totals)*0.9, 82, \"80% Threshold\", color=\"green\")\n",
    "\n",
    "plt.tight_layout()\n",
    "plt.show()\n"
>>>>>>> 13152f2e4fbd93e697e5eb4ea56c8c6f8a66ef42
   ]
  },
  {
   "cell_type": "markdown",
   "metadata": {
    "id": "kF01uYk3mMqF"
   },
   "source": [
    "### AP3 (Customer Order) - Place a Descriptive Title Here\n",
    "\n",
    "*Summary of insights formatted as a caption.*"
   ]
  },
  {
   "cell_type": "code",
<<<<<<< HEAD
   "execution_count": null,
=======
   "execution_count": 27,
>>>>>>> 13152f2e4fbd93e697e5eb4ea56c8c6f8a66ef42
   "metadata": {
    "id": "FmTNG1NFmMqF"
   },
   "outputs": [],
   "source": [
    "# Code generating the figure"
   ]
  },
  {
   "cell_type": "markdown",
   "metadata": {
    "id": "mhhOtmMxmMqF"
   },
   "source": [
    "### AP4 (Item Activity) - Place a Descriptive Title Here\n",
    "\n",
    "*Summary of insights formatted as a caption.*"
   ]
  },
  {
   "cell_type": "code",
<<<<<<< HEAD
   "execution_count": null,
=======
   "execution_count": 28,
>>>>>>> 13152f2e4fbd93e697e5eb4ea56c8c6f8a66ef42
   "metadata": {
    "id": "30yk6WTdmMqF"
   },
   "outputs": [],
   "source": [
    "# Code generating the figure"
   ]
  },
  {
   "cell_type": "markdown",
   "metadata": {
    "id": "1TgmkuH4mMqF"
   },
   "source": [
    "### AP5 (Item Activity) - Place a Descriptive Title Here\n",
    "\n",
    "*Summary of insights formatted as a caption.*"
   ]
  },
  {
   "cell_type": "code",
<<<<<<< HEAD
   "execution_count": null,
=======
   "execution_count": 29,
>>>>>>> 13152f2e4fbd93e697e5eb4ea56c8c6f8a66ef42
   "metadata": {
    "id": "VXBtmdcdmMqF"
   },
   "outputs": [],
   "source": [
    "# Code generating the figure"
   ]
  },
  {
   "cell_type": "markdown",
   "metadata": {
    "id": "bQLj2EzRmMqF"
   },
   "source": [
    "### AP6 (Inventory) - Place a Descriptive Title Here\n",
    "\n",
    "*Summary of insights formatted as a caption.*"
   ]
  },
  {
   "cell_type": "code",
<<<<<<< HEAD
   "execution_count": null,
=======
   "execution_count": 30,
>>>>>>> 13152f2e4fbd93e697e5eb4ea56c8c6f8a66ef42
   "metadata": {
    "id": "zf9g9sgNmMqF"
   },
   "outputs": [],
   "source": [
    "# Code generating the figure"
   ]
  },
  {
   "cell_type": "markdown",
   "metadata": {
    "id": "eSaPwkTAmMqG"
   },
   "source": [
    "### AP7 (Inventory) - Place a Descriptive Title Here\n",
    "\n",
    "*Summary of insights formatted as a caption.*"
   ]
  },
  {
   "cell_type": "code",
<<<<<<< HEAD
   "execution_count": null,
=======
   "execution_count": 31,
>>>>>>> 13152f2e4fbd93e697e5eb4ea56c8c6f8a66ef42
   "metadata": {
    "id": "RFYIYjngmMqG"
   },
   "outputs": [],
   "source": [
    "# Code generating the figure"
   ]
  },
  {
   "cell_type": "markdown",
   "metadata": {
    "id": "fs9Iyu-ImMqG"
   },
   "source": [
    "## Key Performance Indicators (KPIs)\n",
    "\n",
    "### KPI1 (Time) - Place a Descriptive Title Here\n",
    "\n",
    "*Summary of insights formatted as a caption.*"
   ]
  },
  {
   "cell_type": "code",
<<<<<<< HEAD
   "execution_count": null,
=======
   "execution_count": 32,
>>>>>>> 13152f2e4fbd93e697e5eb4ea56c8c6f8a66ef42
   "metadata": {
    "id": "5lAyYmdFmMqG"
   },
   "outputs": [],
   "source": [
    "# Code calculating the KPI"
   ]
  },
  {
   "cell_type": "markdown",
   "metadata": {
    "id": "ST0RDxdqmMqG"
   },
   "source": [
    "### KPI2 (Quality) - Place a Descriptive Title Here\n",
    "\n",
    "*Summary of insights formatted as a caption.*"
   ]
  },
  {
   "cell_type": "code",
<<<<<<< HEAD
   "execution_count": null,
=======
   "execution_count": 33,
>>>>>>> 13152f2e4fbd93e697e5eb4ea56c8c6f8a66ef42
   "metadata": {
    "id": "a77JKpndmMqG"
   },
   "outputs": [],
   "source": [
    "# Code calculating the KPI"
   ]
  },
  {
   "cell_type": "markdown",
   "metadata": {
    "id": "K1_kWPonmMqG"
   },
   "source": [
    "### KPI3 (Quality) - Place a Descriptive Title Here\n",
    "\n",
    "*Summary of insights formatted as a caption.*"
   ]
  },
  {
   "cell_type": "code",
<<<<<<< HEAD
   "execution_count": null,
=======
   "execution_count": 34,
>>>>>>> 13152f2e4fbd93e697e5eb4ea56c8c6f8a66ef42
   "metadata": {
    "id": "TdqMg5RrmMqG"
   },
   "outputs": [],
   "source": [
    "# Code calculating the KPI"
   ]
  },
  {
   "cell_type": "markdown",
   "metadata": {
    "id": "QmQ4oOz6mMqG"
   },
   "source": [
    "### KPI4 (Productivity) - Place a Descriptive Title Here\n",
    "\n",
    "*Summary of insights formatted as a caption.*"
   ]
  },
  {
   "cell_type": "code",
<<<<<<< HEAD
   "execution_count": null,
=======
   "execution_count": 35,
>>>>>>> 13152f2e4fbd93e697e5eb4ea56c8c6f8a66ef42
   "metadata": {
    "id": "IqjVUBoJmMqG"
   },
   "outputs": [],
   "source": [
    "# Code calculating the KPI"
   ]
  },
  {
   "cell_type": "markdown",
   "metadata": {
    "id": "GusfzeTrmMqG"
   },
   "source": [
    "### KPI5 (Productivity) - Place a Descriptive Title Here\n",
    "\n",
    "*Summary of insights formatted as a caption.*"
   ]
  },
  {
   "cell_type": "code",
<<<<<<< HEAD
   "execution_count": null,
=======
   "execution_count": 36,
>>>>>>> 13152f2e4fbd93e697e5eb4ea56c8c6f8a66ef42
   "metadata": {
    "id": "fZUX4uFKmMqG"
   },
   "outputs": [],
   "source": [
    "# Code calculating the KPI"
   ]
  }
 ],
 "metadata": {
  "colab": {
   "provenance": []
  },
  "kernelspec": {
<<<<<<< HEAD
   "display_name": "Python 3",
=======
   "display_name": "base",
>>>>>>> 13152f2e4fbd93e697e5eb4ea56c8c6f8a66ef42
   "language": "python",
   "name": "python3"
  },
  "language_info": {
   "codemirror_mode": {
    "name": "ipython",
    "version": 3
   },
   "file_extension": ".py",
   "mimetype": "text/x-python",
   "name": "python",
   "nbconvert_exporter": "python",
   "pygments_lexer": "ipython3",
<<<<<<< HEAD
   "version": "3.13.0"
=======
   "version": "3.13.5"
>>>>>>> 13152f2e4fbd93e697e5eb4ea56c8c6f8a66ef42
  }
 },
 "nbformat": 4,
 "nbformat_minor": 0
}
